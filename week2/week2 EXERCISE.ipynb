{
 "cells": [
  {
   "cell_type": "markdown",
   "id": "d006b2ea-9dfe-49c7-88a9-a5a0775185fd",
   "metadata": {},
   "source": [
    "# Additional End of week Exercise - week 2\n",
    "\n",
    "Now use everything you've learned from Week 2 to build a full prototype for the technical question/answerer you built in Week 1 Exercise.\n",
    "\n",
    "This should include a Gradio UI, streaming, use of the system prompt to add expertise, and the ability to switch between models. Bonus points if you can demonstrate use of a tool!\n",
    "\n",
    "If you feel bold, see if you can add audio input so you can talk to it, and have it respond with audio. ChatGPT or Claude can help you, or email me if you have questions.\n",
    "\n",
    "I will publish a full solution here soon - unless someone beats me to it...\n",
    "\n",
    "There are so many commercial applications for this, from a language tutor, to a company onboarding solution, to a companion AI to a course (like this one!) I can't wait to see your results."
   ]
  },
  {
   "cell_type": "code",
   "execution_count": 1,
   "id": "a07e7793-b8f5-44f4-aded-5562f633271a",
   "metadata": {},
   "outputs": [],
   "source": [
    "import os\n",
    "import json\n",
    "from dotenv import load_dotenv\n",
    "from openai import OpenAI\n",
    "import gradio as gr"
   ]
  },
  {
   "cell_type": "code",
   "execution_count": 4,
   "id": "74353b0b-9e7f-4284-9c05-4e61f6a6af4d",
   "metadata": {},
   "outputs": [
    {
     "name": "stdout",
     "output_type": "stream",
     "text": [
      "OpenAI API KEY Exist\n"
     ]
    }
   ],
   "source": [
    "load_dotenv(override=True)\n",
    "\n",
    "openai_api_key = os.getenv('OPENAI_API_KEY')\n",
    "if openai_api_key:\n",
    "    print(\"OpenAI API KEY Exist\")\n",
    "else:\n",
    "    print(\"Not exist\")\n",
    "\n",
    "MODEL = \"gpt-4o-mini\"\n",
    "openai=OpenAI()"
   ]
  },
  {
   "cell_type": "code",
   "execution_count": 5,
   "id": "4c9c2f29-c938-471a-9bd2-369270a4b792",
   "metadata": {},
   "outputs": [],
   "source": [
    "system_message = \"\"\"You are the customer support assistant for TechShop (an e-commerce site). Your name is Abigail.\n",
    "Your Tasks:\n",
    "Check order statuses\n",
    "Initiate returns/exchanges\n",
    "Provide product information\n",
    "Track shipments\n",
    "Answer general customer questions\n",
    "\n",
    "Behavior Rules:\n",
    "Always be friendly and helpful.\n",
    "Address the customer by their name once you know it.\n",
    "Show empathy when there is an issue: \"I understand — I can imagine this is frustrating for you.\"\n",
    "Order numbers must be 10 characters (e.g., ORD1234567).\n",
    "Shipment tracking numbers must be 12 characters (e.g., KRG123456789012).\n",
    "Returns must be requested within 14 days of delivery.\n",
    "Customer satisfaction is your highest priority.\n",
    "\n",
    "Communication Style:\n",
    "Speak English; be polite but warm.\n",
    "You may use emojis sparingly (only where appropriate).\n",
    "Keep answers short and clear.\n",
    "If needed, explain steps one-by-one.\n",
    "\n",
    "Important Info:\n",
    "Working hours: 09:00–22:00 (we are not 24/7).\n",
    "Contact: destek@techshop.com or +90 850 123 45 67\n",
    "Free shipping for orders over 500 TL.\n",
    "Return period: 14 days from delivery.\n",
    "\n",
    "If a request falls outside your capability, explain politely and offer an alternative.\"\"\" "
   ]
  },
  {
   "cell_type": "code",
   "execution_count": 10,
   "id": "1beea15c-2512-42b0-ace0-34342196a2cc",
   "metadata": {},
   "outputs": [
    {
     "name": "stdout",
     "output_type": "stream",
     "text": [
      "* Running on local URL:  http://127.0.0.1:7866\n",
      "* To create a public link, set `share=True` in `launch()`.\n"
     ]
    },
    {
     "data": {
      "text/html": [
       "<div><iframe src=\"http://127.0.0.1:7866/\" width=\"100%\" height=\"500\" allow=\"autoplay; camera; microphone; clipboard-read; clipboard-write;\" frameborder=\"0\" allowfullscreen></iframe></div>"
      ],
      "text/plain": [
       "<IPython.core.display.HTML object>"
      ]
     },
     "metadata": {},
     "output_type": "display_data"
    },
    {
     "data": {
      "text/plain": []
     },
     "execution_count": 10,
     "metadata": {},
     "output_type": "execute_result"
    }
   ],
   "source": [
    "def chat(message,history):\n",
    "    messages = [{\"role\" : \"system\" ,\"content\" : system_message}] + history + [{\"role\":\"user\",\"content\":message}]\n",
    "    response = openai.chat.completions.create(model=MODEL,messages=messages)\n",
    "    return response.choices[0].message.content\n",
    "\n",
    "gr.ChatInterface(fn=chat,type=\"messages\").launch()"
   ]
  },
  {
   "cell_type": "code",
   "execution_count": null,
   "id": "4fb26ac9-6bb5-4435-80e1-92e6922c3db0",
   "metadata": {},
   "outputs": [],
   "source": []
  }
 ],
 "metadata": {
  "kernelspec": {
   "display_name": "Python 3 (ipykernel)",
   "language": "python",
   "name": "python3"
  },
  "language_info": {
   "codemirror_mode": {
    "name": "ipython",
    "version": 3
   },
   "file_extension": ".py",
   "mimetype": "text/x-python",
   "name": "python",
   "nbconvert_exporter": "python",
   "pygments_lexer": "ipython3",
   "version": "3.11.13"
  }
 },
 "nbformat": 4,
 "nbformat_minor": 5
}
