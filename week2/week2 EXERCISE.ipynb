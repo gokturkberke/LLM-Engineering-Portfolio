{
 "cells": [
  {
   "cell_type": "markdown",
   "id": "d006b2ea-9dfe-49c7-88a9-a5a0775185fd",
   "metadata": {},
   "source": [
    "# Additional End of week Exercise - week 2\n",
    "\n",
    "Now use everything you've learned from Week 2 to build a full prototype for the technical question/answerer you built in Week 1 Exercise.\n",
    "\n",
    "This should include a Gradio UI, streaming, use of the system prompt to add expertise, and the ability to switch between models. Bonus points if you can demonstrate use of a tool!\n",
    "\n",
    "If you feel bold, see if you can add audio input so you can talk to it, and have it respond with audio. ChatGPT or Claude can help you, or email me if you have questions.\n",
    "\n",
    "I will publish a full solution here soon - unless someone beats me to it...\n",
    "\n",
    "There are so many commercial applications for this, from a language tutor, to a company onboarding solution, to a companion AI to a course (like this one!) I can't wait to see your results."
   ]
  },
  {
   "cell_type": "code",
   "execution_count": 1,
   "id": "a07e7793-b8f5-44f4-aded-5562f633271a",
   "metadata": {},
   "outputs": [],
   "source": [
    "import os\n",
    "import json\n",
    "from dotenv import load_dotenv\n",
    "from openai import OpenAI\n",
    "import gradio as gr"
   ]
  },
  {
   "cell_type": "code",
   "execution_count": 2,
   "id": "74353b0b-9e7f-4284-9c05-4e61f6a6af4d",
   "metadata": {},
   "outputs": [
    {
     "name": "stdout",
     "output_type": "stream",
     "text": [
      "OpenAI API KEY Exist\n"
     ]
    }
   ],
   "source": [
    "load_dotenv(override=True)\n",
    "\n",
    "openai_api_key = os.getenv('OPENAI_API_KEY')\n",
    "if openai_api_key:\n",
    "    print(\"OpenAI API KEY Exist\")\n",
    "else:\n",
    "    print(\"Not exist\")\n",
    "\n",
    "MODEL = \"gpt-4o-mini\"\n",
    "openai=OpenAI()"
   ]
  },
  {
   "cell_type": "code",
   "execution_count": 3,
   "id": "4c9c2f29-c938-471a-9bd2-369270a4b792",
   "metadata": {},
   "outputs": [],
   "source": [
    "system_message = \"\"\"You are the customer support assistant for TechShop (an e-commerce site). Your name is Abigail.\n",
    "Your Tasks:\n",
    "Check order statuses\n",
    "Initiate returns/exchanges\n",
    "Provide product information\n",
    "Track shipments\n",
    "Answer general customer questions\n",
    "\n",
    "Behavior Rules:\n",
    "Always be friendly and helpful.\n",
    "Address the customer by their name once you know it.\n",
    "Show empathy when there is an issue: \"I understand — I can imagine this is frustrating for you.\"\n",
    "Order numbers must be 10 characters (e.g., ORD1234567).\n",
    "Shipment tracking numbers must be 12 characters (e.g., KRG123456789012).\n",
    "Returns must be requested within 14 days of delivery.\n",
    "Customer satisfaction is your highest priority.\n",
    "\n",
    "Communication Style:\n",
    "Speak English; be polite but warm.\n",
    "You may use emojis sparingly (only where appropriate).\n",
    "Keep answers short and clear.\n",
    "If needed, explain steps one-by-one.\n",
    "\n",
    "Important Info:\n",
    "Working hours: 09:00–22:00 (we are not 24/7).\n",
    "Contact: destek@techshop.com or +90 850 123 45 67\n",
    "Free shipping for orders over 500 TL.\n",
    "Return period: 14 days from delivery.\n",
    "\n",
    "If a request falls outside your capability, explain politely and offer an alternative.\"\"\" "
   ]
  },
  {
   "cell_type": "code",
   "execution_count": 4,
   "id": "1beea15c-2512-42b0-ace0-34342196a2cc",
   "metadata": {},
   "outputs": [
    {
     "name": "stdout",
     "output_type": "stream",
     "text": [
      "* Running on local URL:  http://127.0.0.1:7860\n",
      "* To create a public link, set `share=True` in `launch()`.\n"
     ]
    },
    {
     "data": {
      "text/html": [
       "<div><iframe src=\"http://127.0.0.1:7860/\" width=\"100%\" height=\"500\" allow=\"autoplay; camera; microphone; clipboard-read; clipboard-write;\" frameborder=\"0\" allowfullscreen></iframe></div>"
      ],
      "text/plain": [
       "<IPython.core.display.HTML object>"
      ]
     },
     "metadata": {},
     "output_type": "display_data"
    },
    {
     "data": {
      "text/plain": []
     },
     "execution_count": 4,
     "metadata": {},
     "output_type": "execute_result"
    }
   ],
   "source": [
    "def chat(message,history):\n",
    "    messages = [{\"role\" : \"system\" ,\"content\" : system_message}] + history + [{\"role\":\"user\",\"content\":message}]\n",
    "    response = openai.chat.completions.create(model=MODEL,messages=messages)\n",
    "    return response.choices[0].message.content\n",
    "\n",
    "gr.ChatInterface(fn=chat,type=\"messages\").launch()"
   ]
  },
  {
   "cell_type": "code",
   "execution_count": 18,
   "id": "4fb26ac9-6bb5-4435-80e1-92e6922c3db0",
   "metadata": {},
   "outputs": [],
   "source": [
    "tools = [\n",
    "    {\n",
    "        \"type\": \"function\",\n",
    "        \"function\": {\n",
    "            \"name\": \"check_order\",\n",
    "            \"description\" : \"Fetches order status, shipment info and product details by order number\",\n",
    "            \"parameters\" : {\n",
    "                \"type\" : \"object\",\n",
    "                \"properties\" : {\n",
    "                    \"order_number\": {\n",
    "                        \"type\" :\"string\",\n",
    "                        \"description\": \"10-character order number (e.g., ORD1234567)\",\n",
    "                        \"pattern\" : \"^[A-Z]{3}\\\\d{7}$\",\n",
    "                        \"minLength\": 10,\n",
    "                        \"maxLength\":10\n",
    "                    }\n",
    "                },\n",
    "                \"required\" :[\"order_number\"]\n",
    "            }\n",
    "        }\n",
    "    },\n",
    "    {\n",
    "        \"type\": \"function\",\n",
    "        \"function\": {\n",
    "            \"name\" : \"initiate_return\",\n",
    "            \"description\" : \"Starts a return process for the specified order\",\n",
    "            \"parameters\": {\n",
    "                \"type\": \"object\",\n",
    "                \"properties\": {\n",
    "                    \"order_number\": {\n",
    "                        \"type\" : \"string\",\n",
    "                        \"description\" : \"10-character order number (e.g., ORD1234567)\",\n",
    "                        \"pattern\" : \"^[A-Z]{3}\\\\d{7}$\",\n",
    "                        \"minLength\" :10,\n",
    "                        \"maxLength\" :10\n",
    "                    },\n",
    "                    \"reason\": {\n",
    "                        \"type\" : \"string\",\n",
    "                        \"description\" : \" Reason for return (e.g., 'damaged', 'wrong item', 'not satisfied')\"\n",
    "                        \n",
    "                },\n",
    "                \"details\":{\n",
    "                    \"type\":\"string\",\n",
    "                    \"description\" : \"Detailed explanation (optional)\"\n",
    "            }\n",
    "        },\n",
    "                \"required\":[\"order_number\",\"reason\"]\n",
    "            }\n",
    "        }\n",
    "    },\n",
    "    {\n",
    "        \"type\":\"function\",\n",
    "        \"function\" : {\n",
    "            \"name\" : \"track_shipment\",\n",
    "      \"description\": \"Shows shipment status and last known location using tracking number\",\n",
    "      \"parameters\": {\n",
    "        \"type\": \"object\",\n",
    "        \"properties\": {\n",
    "          \"tracking_number\": {\n",
    "            \"type\": \"string\",\n",
    "            \"description\": \"12-character shipment tracking number (e.g., KRG123456789)\",\n",
    "            \"pattern\": \"^[A-Z]{3}\\\\d{9}$\",\n",
    "            \"minLength\": 12,\n",
    "            \"maxLength\": 12\n",
    "          }\n",
    "        },\n",
    "        \"required\": [\"tracking_number\"]\n",
    "      }\n",
    "    }\n",
    "  },\n",
    "    {\n",
    "        \"type\": \"function\",\n",
    "        \"function\": {\n",
    "            \"name\" : \"product_info\",\n",
    "            \"description\" : \"Retrieces product details(price,stock,specs) by product name or code\",\n",
    "            \"paramters\": {\n",
    "                \"type\" : \"object\",\n",
    "                \"properties\": {\n",
    "                    \"product_query\": {\n",
    "                        \"type\" : \"string\",\n",
    "                        \"description\": \"Product name or code\"\n",
    "                    }\n",
    "                },\n",
    "                \"required\": [\"product_query\"]\n",
    "            }\n",
    "        }\n",
    "    },\n",
    "    {\"type\": \"function\",\n",
    "     \"function\": {\n",
    "      \"name\": \"get_faq\",\n",
    "      \"description\": \"Fetches FAQ entries from the database by topic\",\n",
    "      \"parameters\": {\n",
    "        \"type\": \"object\",\n",
    "        \"properties\": {\n",
    "          \"topic\": {\n",
    "            \"type\": \"string\",\n",
    "            \"description\": \"FAQ topic\",\n",
    "            \"enum\": [\"shipping\", \"payment\", \"returns\", \"warranty\", \"membership\"]\n",
    "          }\n",
    "        },\n",
    "        \"required\": [\"topic\"]\n",
    "      }\n",
    "    }\n",
    "  },\n",
    "  {\n",
    "    \"type\": \"function\",\n",
    "    \"function\": {\n",
    "      \"name\": \"create_support_ticket\",\n",
    "      \"description\": \"Creates a support ticket for issues that can't be resolved immediately\",\n",
    "      \"parameters\": {\n",
    "        \"type\": \"object\",\n",
    "        \"properties\": {\n",
    "          \"full_name\": {\n",
    "            \"type\": \"string\",\n",
    "            \"description\": \"Customer full name\"\n",
    "          },\n",
    "          \"email\": {\n",
    "            \"type\": \"string\",\n",
    "            \"description\": \"Contact email (e.g., user@example.com)\",\n",
    "            \"format\": \"email\"\n",
    "          },\n",
    "          \"subject\": {\n",
    "            \"type\": \"string\",\n",
    "            \"description\": \"Ticket subject\"\n",
    "          },\n",
    "          \"description\": {\n",
    "            \"type\": \"string\",\n",
    "            \"description\": \"Detailed description\"\n",
    "          }\n",
    "        },\n",
    "        \"required\": [\"full_name\", \"email\", \"subject\", \"description\"]\n",
    "      }\n",
    "    }\n",
    "  }\n",
    "]"
   ]
  },
  {
   "cell_type": "code",
   "execution_count": 21,
   "id": "bcc81798-2b3c-4a45-835e-c3705b39998d",
   "metadata": {},
   "outputs": [],
   "source": [
    "import random\n",
    "from datetime import datetime, timedelta\n",
    "\n",
    "def check_order(order_number):\n",
    "    \"\"\"Fetches order information(simulated).\"\"\"\n",
    "    statues = [\"Preparing\", \"Shipped\",\"Out for Delivery\", \"Delivered\"]\n",
    "    status = random.choice(statues)\n",
    "    \n",
    "    products = [\n",
    "        {\"name\": \"iPhone 15 Pro\", \"quantity\": 1, \"price\": 45999},\n",
    "        {\"name\": \"AirPods Pro\", \"quantity\": 1, \"price\": 8999},\n",
    "        {\"name\": \"Apple Watch Series 9\", \"quantity\": 1, \"price\": 15999}\n",
    "    ]\n",
    "    \n",
    "    product = random.choice(products)\n",
    "\n",
    "    return {\n",
    "    \"success\": True,\n",
    "    \"order_number\" : order_number,\n",
    "    \"date\": (datetime.now() - timedelta(days=random.randint(1,10))).strftime(\"%Y-%m-%d\"),\n",
    "    \"status\" : status,\n",
    "    \"products\" : [product],\n",
    "    \"total\" : product[\"price\"],\n",
    "    \"shipping_provider\" : random.choice([\"Aras Kargo\", \"Yurtici Kargo\", \"Mng Kargo\"]),\n",
    "    # tracking_number format: 3 letters + 9 digits = 12 chars (matches tools pattern)\n",
    "    \"tracking_number\": f\"KRG{random.randint(100000000, 999999999)}\",\n",
    "    \"estimated_delivery\": (datetime.now() + timedelta(days=random.randint(1, 3))).strftime(\"%Y-%m-%d\")\n",
    "    }"
   ]
  },
  {
   "cell_type": "code",
   "execution_count": 23,
   "id": "c9b53b64-9bb8-4914-8bb2-ecb59ecc22fb",
   "metadata": {},
   "outputs": [
    {
     "ename": "SyntaxError",
     "evalue": "incomplete input (914743823.py, line 6)",
     "output_type": "error",
     "traceback": [
      "  \u001b[36mCell\u001b[39m\u001b[36m \u001b[39m\u001b[32mIn[23]\u001b[39m\u001b[32m, line 6\u001b[39m\n\u001b[31m    \u001b[39m\u001b[31mreturn {\u001b[39m\n            ^\n\u001b[31mSyntaxError\u001b[39m\u001b[31m:\u001b[39m incomplete input\n"
     ]
    }
   ],
   "source": [
    "def initiate_return(order_number,reason,details=\"\"):\n",
    "    \"\"\"Starts a return process (simulated).\"\"\"\n",
    "\n",
    "    return_id = f\"RET{random.randint(100000,999999)}\"\n",
    "\n",
    "    return {\n",
    "    \"success\" :True,\n",
    "    \"return_id\" : return_id,\n",
    "    \"order_number\" : order_number,\n",
    "    \"reason\": reason,\n",
    "    \"status\" : \"Return Request Received\",\n",
    "    \"message\" : \"Your return request has been created successfully.The courier will pick up the item within 2 business days.\",\n",
    "    \"return_code\": return_id,\n",
    "    \"shipping_fee\": \"Free if issue caused by us\",\n",
    "    \"refund_time\": \"5-7 business days after the item arrives at the warehouse\"\n",
    "    }"
   ]
  },
  {
   "cell_type": "code",
   "execution_count": null,
   "id": "cbcc7135-56a7-41c3-8fee-8d380a02271e",
   "metadata": {},
   "outputs": [],
   "source": [
    "def\n"
   ]
  }
 ],
 "metadata": {
  "kernelspec": {
   "display_name": "Python 3 (ipykernel)",
   "language": "python",
   "name": "python3"
  },
  "language_info": {
   "codemirror_mode": {
    "name": "ipython",
    "version": 3
   },
   "file_extension": ".py",
   "mimetype": "text/x-python",
   "name": "python",
   "nbconvert_exporter": "python",
   "pygments_lexer": "ipython3",
   "version": "3.11.13"
  }
 },
 "nbformat": 4,
 "nbformat_minor": 5
}
