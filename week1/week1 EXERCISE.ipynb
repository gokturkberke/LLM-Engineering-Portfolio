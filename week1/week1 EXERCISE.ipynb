{
 "cells": [
  {
   "cell_type": "markdown",
   "id": "fe12c203-e6a6-452c-a655-afb8a03a4ff5",
   "metadata": {},
   "source": [
    "# End of week 1 exercise\n",
    "\n",
    "To demonstrate your familiarity with OpenAI API, and also Ollama, build a tool that takes a technical question,  \n",
    "and responds with an explanation. This is a tool that you will be able to use yourself during the course!"
   ]
  },
  {
   "cell_type": "code",
   "execution_count": 10,
   "id": "c1070317-3ed9-4659-abe3-828943230e03",
   "metadata": {},
   "outputs": [],
   "source": [
    "# imports\n",
    "import os\n",
    "import requests\n",
    "from openai import OpenAI\n",
    "from dotenv import load_dotenv\n",
    "from bs4 import BeautifulSoup\n",
    "from IPython.display import Markdown,display"
   ]
  },
  {
   "cell_type": "code",
   "execution_count": 11,
   "id": "4a456906-915a-4bfd-bb9d-57e505c5093f",
   "metadata": {},
   "outputs": [],
   "source": [
    "# constants\n",
    "\n",
    "MODEL_GPT = 'gpt-4o-mini'\n",
    "MODEL_LLAMA = 'llama3.2'"
   ]
  },
  {
   "cell_type": "code",
   "execution_count": 12,
   "id": "a8d7923c-5f28-4c30-8556-342d7c8497c1",
   "metadata": {},
   "outputs": [],
   "source": [
    "# set up environment\n",
    "load_dotenv(override=True) #.env dosyasindaki degiskenleri (environment variables'e) yukler\n",
    "api_key = os.getenv(\"OPENAI_API_KEY\")\n",
    "\n",
    "openai = OpenAI()"
   ]
  },
  {
   "cell_type": "code",
   "execution_count": 13,
   "id": "3f0d0137-52b0-47a8-81a8-11a90a010798",
   "metadata": {},
   "outputs": [],
   "source": [
    "# here is the question; type over this to ask something new\n",
    "\n",
    "question = \"\"\"\n",
    "Please explain what this code does and why:\n",
    "yield from {book.get(\"author\") for book in books if book.get(\"author\")}\n",
    "\"\"\""
   ]
  },
  {
   "cell_type": "markdown",
   "id": "a56a9480-2b26-418c-8b9f-35b4fa1be32b",
   "metadata": {},
   "source": [
    "A system prompt that tells them what task they are performing and what tone they should use\n",
    "\n",
    "A user prompt -- the conversation starter that they should reply to"
   ]
  },
  {
   "cell_type": "code",
   "execution_count": 14,
   "id": "60ce7000-a4a5-4cce-a261-e75ef45063b4",
   "metadata": {},
   "outputs": [
    {
     "name": "stdout",
     "output_type": "stream",
     "text": [
      "This code snippet uses a generator expression along with the `yield from` statement. Let's break it down to understand what it does:\n",
      "\n",
      "1. **Set Comprehension**: \n",
      "   ```python\n",
      "   {book.get(\"author\") for book in books if book.get(\"author\")}\n",
      "   ```\n",
      "   This part of the code creates a set of authors from a collection of `books`. It iterates through each `book` in the `books` iterable (which is likely a list of dictionaries). The expression `book.get(\"author\")` retrieves the value associated with the \"author\" key for each book. The `if book.get(\"author\")` condition ensures that only those books which actually have an author (i.e., the author value is not `None` or empty) are included in the set.\n",
      "\n",
      "2. **`yield from` Statement**:\n",
      "   ```python\n",
      "   yield from ...\n",
      "   ```\n",
      "   The `yield from` statement is used in generator functions to yield all values from an iterable. By using `yield from`, the code effectively iterates over the entire set of authors created by the set comprehension and yields each author one by one. \n",
      "\n",
      "### Summary of What the Code Does:\n",
      "- It processes a collection of book entries, extracting valid author names from them.\n",
      "- It constructs a set of unique author names (removing duplicates automatically, as sets do).\n",
      "- It then yields each author name individually, allowing the calling code to consume the authors one at a time.\n",
      "\n",
      "### Why Use This Code:\n",
      "- **Efficiency and Clarity**: The use of a set comprehension ensures that duplicates are automatically filtered out, and `yield from` provides a straightforward way to yield each value without needing to write an explicit loop.\n",
      "- **Generator Behavior**: This pattern is useful if you want to produce a potentially large list of authors without storing all those names in memory at once, since generators yield items one at a time and only compute the next item as needed.\n",
      "\n",
      "This approach is particularly useful in scenarios where you're working with a potentially large dataset and want to avoid high memory usage by not storing all results at once.\n"
     ]
    }
   ],
   "source": [
    "# Get gpt-4o-mini to answer, with streaming\n",
    "response = openai.chat.completions.create(model=\"gpt-4o-mini\", messages = [{\"role\":\"user\",\"content\" : question}])\n",
    "print(response.choices[0].message.content) #role kimin konustugu content = mesajin icerigi\n",
    "\"system\" → Asistanın kimliği veya davranışı. (Örn: “Sen bir Python öğretmenisin, kısa cevap ver”)\n",
    "\"user\" → Kullanıcının gönderdiği mesajlar (senin yazdıkların).\n",
    "\"assistant\" → Modelin (benim) verdiği önceki cevapla"
   ]
  },
  {
   "cell_type": "code",
   "execution_count": 17,
   "id": "652e202a-35f6-43a0-9a4f-7d4632973dd1",
   "metadata": {},
   "outputs": [
    {
     "name": "stdout",
     "output_type": "stream",
     "text": [
      "This code uses a generator expression with `yield from` to yield authors from a collection of `books`. Here's how it works:\n",
      "\n",
      "1. It creates a set comprehension `{book.get(\"author\") for book in books if book.get(\"author\")}` that collects the unique authors from the `books` list, ensuring that only non-`None` author values are included.\n",
      "2. `yield from` is used to yield each author from the set one at a time during iteration.\n",
      "\n",
      "The use of a set comprehension ensures that duplicate authors are automatically removed, as sets only store unique values.\n"
     ]
    }
   ],
   "source": [
    "# STREAM = yanıtın streaming (akışlı) modda mı yoksa batch (toplu) modda mı geleceğini belirler\n",
    "# synchronous — tüm cevap gelene kadar bekler\n",
    "response = openai.chat.completions.create(\n",
    "    model=\"gpt-4o-mini\",\n",
    "    messages=[\n",
    "        {\"role\": \"system\", \"content\": \"Sen kısa cevap veren bir Python öğretmenisin.\"},\n",
    "        {\"role\": \"user\", \"content\": question}\n",
    "    ]\n",
    ")\n",
    "print(response.choices[0].message.content)  # tüm cevap burada tek seferde\n"
   ]
  },
  {
   "cell_type": "code",
   "execution_count": 21,
   "id": "8f7c8ea8-4082-4ad0-8751-3301adcf6538",
   "metadata": {},
   "outputs": [
    {
     "name": "stdout",
     "output_type": "stream",
     "text": [
      "This code uses a generator expression with `yield from` to yield authors from a collection of books. Here's a breakdown:\n",
      "\n",
      "1. **Set comprehension**: `{book.get(\"author\") for book in books if book.get(\"author\")}` creates a set of authors. It iterates through `books`, retrieves the value associated with the key `\"author\"` for each book, and includes it in the set only if the author exists (i.e., is not `None` or empty).\n",
      "\n",
      "2. **`yield from`**: This keyword is used in a generator function to yield all values from the iterable (in this case, the set of authors) one by one.\n",
      "\n",
      "So, the overall functionality is to create a generator that yields unique authors from the list of books, skipping any books that do not have an author.\n"
     ]
    }
   ],
   "source": [
    "# Stream true olursa yaniti parca parca gonderir\n",
    "\n",
    "import openai  # Önceki kodda import edilmiş varsayalım, yoksa ekle\n",
    "\n",
    "# STREAM = True: Yanıt parça parça (token token) akar, döngüyle yakala\n",
    "# Asynchronous hissi verir, ama synchronous olarak döngüde bekler (her parça geldiğinde yazdırır)\n",
    "response = openai.chat.completions.create(\n",
    "    model=\"gpt-4o-mini\",\n",
    "    messages=[\n",
    "        {\"role\": \"system\", \"content\": \"Sen kısa cevap veren bir Python öğretmenisin.\"},\n",
    "        {\"role\": \"user\", \"content\": question}\n",
    "    ],\n",
    "    stream=True  # Ana değişiklik: stream=True ekle\n",
    ")\n",
    "\n",
    "full_response = \"\"  # Opsiyonel: Tüm parçaları biriktir (eğer tam metin lazımsa)\n",
    "for chunk in response:\n",
    "    if chunk.choices[0].delta.content is not None:  # Delta: Yeni gelen parça\n",
    "        content = chunk.choices[0].delta.content\n",
    "        print(content, end='', flush=True)  # Parça parça ekrana bas (yazıyor efekti)\n",
    "        full_response += content  # Biriktir (opsiyonel)\n",
    "\n",
    "print()  # Sonunda yeni satıra geç"
   ]
  },
  {
   "cell_type": "code",
   "execution_count": null,
   "id": "5ce382e3-4ce1-42fd-9f1b-02556963fbde",
   "metadata": {},
   "outputs": [],
   "source": []
  }
 ],
 "metadata": {
  "kernelspec": {
   "display_name": "Python 3 (ipykernel)",
   "language": "python",
   "name": "python3"
  },
  "language_info": {
   "codemirror_mode": {
    "name": "ipython",
    "version": 3
   },
   "file_extension": ".py",
   "mimetype": "text/x-python",
   "name": "python",
   "nbconvert_exporter": "python",
   "pygments_lexer": "ipython3",
   "version": "3.11.13"
  }
 },
 "nbformat": 4,
 "nbformat_minor": 5
}
